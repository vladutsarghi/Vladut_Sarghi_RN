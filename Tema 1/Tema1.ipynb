{
 "cells": [
  {
   "cell_type": "markdown",
   "id": "f70b5daabaacdfe9",
   "metadata": {},
   "source": [
    "Exercitiul 1"
   ]
  },
  {
   "cell_type": "code",
   "id": "7b9ce4e281cce1da",
   "metadata": {
    "jupyter": {
     "is_executing": true
    }
   },
   "source": [
    "def parsingTheSystem():\n",
    "    \n",
    "    A = []\n",
    "    B = []\n",
    "    with open('C:/Users/sargh/Desktop/RN/Tema 1/sistem.txt', 'r') as file:\n",
    "        for linie in file:\n",
    "            sign = True\n",
    "            a = []\n",
    "            number = 0\n",
    "            for i in range(0,len(linie)):\n",
    "                if linie[i] == '-': sign = False\n",
    "                elif linie[i] == '+': sign = True\n",
    "                if linie[i] in '0123456789':\n",
    "                    number = number * 10 + int(linie[i])\n",
    "                if linie[i] not in '\\n=+- 0123456789':\n",
    "                   \n",
    "                    if number == 0:\n",
    "                        number = 1\n",
    "                    if not sign:\n",
    "                        number = number * -1\n",
    "                    \n",
    "                    a.append(number)\n",
    "                    number = 0\n",
    "            \n",
    "            B.append(number)\n",
    "            A.append(a)\n",
    "\n",
    "    return A, B\n",
    "            \n",
    "parsingTheSystem()"
   ],
   "outputs": [],
   "execution_count": null
  },
  {
   "cell_type": "code",
   "execution_count": null,
   "id": "initial_id",
   "metadata": {
    "collapsed": true
   },
   "outputs": [],
   "source": []
  },
  {
   "cell_type": "markdown",
   "id": "ce80a8c0cba17957",
   "metadata": {},
   "source": [
    "Exercitiul 2\n",
    "\n"
   ]
  },
  {
   "cell_type": "code",
   "execution_count": 3,
   "id": "71e203ae0c338f7",
   "metadata": {
    "ExecuteTime": {
     "end_time": "2024-10-12T07:14:24.022320Z",
     "start_time": "2024-10-12T07:14:24.012336Z"
    }
   },
   "outputs": [
    {
     "name": "stdout",
     "output_type": "stream",
     "text": [
      "[37, 28, 43]\n"
     ]
    }
   ],
   "source": [
    "def determinant():\n",
    "    a, b = parsingTheSystem()\n",
    "    \n",
    "    return a[0][0] * (a[1][1]*a[2][2] - a[1][2]*a[2][1]) - a[0][1] * (a[1][0]*a[2][2] - a[1][2]*a[2][0]) - a[0][2] * (a[1][0]*a[2][1] - a[1][1]*a[2][0])\n",
    "\n",
    "def trace():\n",
    "    a,b = parsingTheSystem()\n",
    "    result = 0\n",
    "    for i in range(0,len(a)):\n",
    "        result += a[i][i]\n",
    "        \n",
    "    return result\n",
    "\n",
    "def vector_norm():\n",
    "    a,b = parsingTheSystem()\n",
    "    sumNorm = 0\n",
    "    for i in range(0,len(b)):\n",
    "        sumNorm += b[i]*b[i]\n",
    "\n",
    "    print(sumNorm)\n",
    "    return sumNorm ** (1/2)       \n",
    "\n",
    "def transpose():\n",
    "    a,b = parsingTheSystem()\n",
    "    \n",
    "    t = []\n",
    "    for i in range(0,len(a)):\n",
    "        temp = []\n",
    "        for j in range(0,len(a)):\n",
    "            temp.append(a[j][i])\n",
    "        t.append(temp)\n",
    "        \n",
    "    return t\n",
    "\n",
    "def matrix_vector_multiplication():\n",
    "    a,b = parsingTheSystem()\n",
    "    result = []\n",
    "    for i in range(0,len(a)):\n",
    "        temp = 0\n",
    "        for j in range(0,len(b)):\n",
    "            temp += a[j][i]*b[j]\n",
    "        result.append(temp)\n",
    "        \n",
    "    return result\n",
    "\n",
    "print(matrix_vector_multiplication())"
   ]
  },
  {
   "cell_type": "markdown",
   "id": "ab0e41e98327f34b",
   "metadata": {},
   "source": [
    "Exercitiul 3\n"
   ]
  },
  {
   "cell_type": "code",
   "execution_count": 34,
   "id": "e10cedd77dd4b664",
   "metadata": {
    "ExecuteTime": {
     "end_time": "2024-10-12T09:32:44.659789Z",
     "start_time": "2024-10-12T09:32:44.651456Z"
    }
   },
   "outputs": [
    {
     "name": "stdout",
     "output_type": "stream",
     "text": [
      "1.5416666666666667\n",
      "0.2916666666666667\n",
      "1.0416666666666667\n"
     ]
    }
   ],
   "source": [
    "import copy\n",
    "\n",
    "\n",
    "def determinant_param(a):\n",
    "    return a[0][0] * (a[1][1] * a[2][2] - a[1][2] * a[2][1]) - a[0][1] * (a[1][0] * a[2][2] - a[1][2] * a[2][0]) + a[0][2] * (a[1][0] * a[2][1] - a[1][1] * a[2][0])\n",
    "\n",
    "def determinant_matrix(a, b, collumn):\n",
    "    \n",
    "    a_copy = copy.deepcopy(a)\n",
    "    for i in range(0,len(b)):\n",
    "        a_copy[i][collumn] = b[i]\n",
    "        \n",
    "    return determinant_param(a_copy)\n",
    "\n",
    "def cramer():\n",
    "    a,b = parsingTheSystem()\n",
    "    \n",
    "    d = determinant_param(a)\n",
    "    \n",
    "    print(determinant_matrix(a,b,0) / d)\n",
    "    print(determinant_matrix(a,b,1) / d)\n",
    "    print(determinant_matrix(a,b,2) / d)\n",
    "\n",
    "cramer()"
   ]
  },
  {
   "cell_type": "markdown",
   "id": "9090056b74a3a573",
   "metadata": {},
   "source": [
    "Exercitiul 4\n"
   ]
  },
  {
   "cell_type": "code",
   "execution_count": 38,
   "id": "36f85066b9f65eb9",
   "metadata": {
    "ExecuteTime": {
     "end_time": "2024-10-12T09:35:59.914956Z",
     "start_time": "2024-10-12T09:35:59.906480Z"
    }
   },
   "outputs": [
    {
     "data": {
      "text/plain": [
       "[1.5416666666666665, 0.2916666666666665, 1.0416666666666665]"
      ]
     },
     "execution_count": 38,
     "metadata": {},
     "output_type": "execute_result"
    }
   ],
   "source": [
    "def cofactor_matrix_element(a, i, j):\n",
    "    new_a = []\n",
    "    for k1 in range(0,len(a)):\n",
    "        temp = []\n",
    "        for k2 in range(0,len(a)):\n",
    "            if i != k1 and j != k2:\n",
    "                temp.append(a[k1][k2])\n",
    "        if len(temp) > 0:\n",
    "            new_a.append(temp)\n",
    "        \n",
    "        \n",
    "    return (new_a[0][0]*new_a[1][1] - new_a[0][1]*new_a[1][0]) * ((-1) ** (i + j))\n",
    "\n",
    "def transpose_param(a):\n",
    "    \n",
    "    t = []\n",
    "    for i in range(0,len(a)):\n",
    "        temp = []\n",
    "        for j in range(0,len(a)):\n",
    "            temp.append(a[j][i])\n",
    "        t.append(temp)\n",
    "        \n",
    "    return t\n",
    "\n",
    "def inversion(a):\n",
    "    \n",
    "    det = 1 / determinant_param(a)\n",
    "    adj = []\n",
    "    \n",
    "    for i in range(0,len(a)):\n",
    "        temp = []\n",
    "        for j in range(0,len(a)):\n",
    "            temp.append(det * cofactor_matrix_element(a,i,j ))\n",
    "        adj.append(temp)\n",
    "        \n",
    "    return adj\n",
    "\n",
    "def final_step():\n",
    "    a,b = parsingTheSystem()\n",
    "    a = inversion(a)\n",
    "\n",
    "    result = []\n",
    "    for i in range(0,len(a)):\n",
    "        temp = 0\n",
    "        for j in range(0,len(b)):\n",
    "            temp += a[j][i]*b[j]\n",
    "        result.append(temp)\n",
    "        \n",
    "    return result\n",
    "final_step()"
   ]
  }
 ],
 "metadata": {
  "kernelspec": {
   "display_name": "Python 3",
   "language": "python",
   "name": "python3"
  },
  "language_info": {
   "codemirror_mode": {
    "name": "ipython",
    "version": 2
   },
   "file_extension": ".py",
   "mimetype": "text/x-python",
   "name": "python",
   "nbconvert_exporter": "python",
   "pygments_lexer": "ipython2",
   "version": "2.7.6"
  }
 },
 "nbformat": 4,
 "nbformat_minor": 5
}
