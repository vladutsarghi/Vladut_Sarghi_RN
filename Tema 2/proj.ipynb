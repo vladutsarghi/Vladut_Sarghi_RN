{
 "cells": [
  {
   "cell_type": "code",
   "id": "initial_id",
   "metadata": {
    "collapsed": true,
    "ExecuteTime": {
     "end_time": "2024-10-20T16:59:21.656582Z",
     "start_time": "2024-10-20T16:59:16.013317Z"
    }
   },
   "source": [
    "import numpy as np\n",
    "from torchvision.datasets import MNIST\n",
    "\n",
    "def download_mnist(is_train: bool):\n",
    "    dataset = MNIST(root='./data',\n",
    "                    transform=lambda x: np.array(x).flatten(),\n",
    "                    download=True,\n",
    "                    train=is_train)\n",
    "    \n",
    "    mnist_data = []\n",
    "    mnist_labels = []\n",
    "    \n",
    "    for image, label in dataset:\n",
    "        mnist_data.append(image)\n",
    "        mnist_labels.append(label)\n",
    "    \n",
    "    return np.array(mnist_data), np.array(mnist_labels)\n",
    "\n",
    "train_X, train_Y = download_mnist(True)\n",
    "test_X, test_Y = download_mnist(False)\n",
    "\n",
    "print(train_Y)\n"
   ],
   "outputs": [
    {
     "name": "stdout",
     "output_type": "stream",
     "text": [
      "[5 0 4 ... 5 6 8]\n"
     ]
    }
   ],
   "execution_count": 48
  },
  {
   "metadata": {},
   "cell_type": "markdown",
   "source": "Step 1: Normalize the data",
   "id": "814ac338584aa4e4"
  },
  {
   "metadata": {
    "ExecuteTime": {
     "end_time": "2024-10-20T09:52:40.218220Z",
     "start_time": "2024-10-20T09:52:40.048680Z"
    }
   },
   "cell_type": "code",
   "source": [
    "train_x = train_X / 255.0\n",
    "train_y = train_Y / 255.0"
   ],
   "id": "ce1dcd22d601f775",
   "outputs": [],
   "execution_count": 3
  },
  {
   "metadata": {},
   "cell_type": "markdown",
   "source": "Step 2: One hot encode the labels",
   "id": "65853d749b7b3fa9"
  },
  {
   "metadata": {
    "ExecuteTime": {
     "end_time": "2024-10-20T09:52:42.244635Z",
     "start_time": "2024-10-20T09:52:42.229350Z"
    }
   },
   "cell_type": "code",
   "source": [
    "def one_hot_encode(labels, num_classes):\n",
    "    return np.eye(num_classes)[labels]\n",
    "\n",
    "test_y_one_hot = one_hot_encode(test_Y, 10)\n",
    "train_Y_one_hot = one_hot_encode(train_Y, 10)"
   ],
   "id": "b6518a54e657370",
   "outputs": [],
   "execution_count": 4
  },
  {
   "metadata": {},
   "cell_type": "markdown",
   "source": "Step 3: softmax function",
   "id": "c8c679092d88733b"
  },
  {
   "metadata": {
    "ExecuteTime": {
     "end_time": "2024-10-20T09:52:43.664257Z",
     "start_time": "2024-10-20T09:52:43.647618Z"
    }
   },
   "cell_type": "code",
   "source": [
    "def softmax(z):\n",
    "    exp_z = np.exp(z - np.max(z, axis=-1, keepdims=True))\n",
    "    return exp_z / np.sum(exp_z, axis=-1, keepdims=True)"
   ],
   "id": "8c4d40e4f03cc75f",
   "outputs": [],
   "execution_count": 5
  },
  {
   "metadata": {},
   "cell_type": "markdown",
   "source": "Step 4: forward propagation",
   "id": "77d64307bb2baa0a"
  },
  {
   "metadata": {
    "ExecuteTime": {
     "end_time": "2024-10-20T10:17:10.501158Z",
     "start_time": "2024-10-20T10:17:10.493787Z"
    }
   },
   "cell_type": "code",
   "source": [
    "def forward_propagation(input, weight, bias):\n",
    "    z = np.dot(input, weight) + bias\n",
    "    # return np.where(z >= 0, 1, 0)\n",
    "    return softmax(z)"
   ],
   "id": "58194fc1a8fc2b3f",
   "outputs": [],
   "execution_count": 19
  },
  {
   "metadata": {},
   "cell_type": "markdown",
   "source": "Step 5: backwords propagation",
   "id": "fa33b1f507a335da"
  },
  {
   "metadata": {
    "ExecuteTime": {
     "end_time": "2024-10-20T16:09:52.790707Z",
     "start_time": "2024-10-20T16:09:52.766716Z"
    }
   },
   "cell_type": "code",
   "source": [
    "def backward_propagation(input, label, label_predict, weight, bias, learning_rate):\n",
    "    \n",
    "    error = label - label_predict\n",
    "    \n",
    "    weight += np.dot(input.T, error) * learning_rate\n",
    "    bias += np.sum(error , axis=0) * learning_rate\n",
    "    # bias += label * learning_rate\n",
    "    return weight, bias"
   ],
   "id": "164e911770af0724",
   "outputs": [],
   "execution_count": 45
  },
  {
   "metadata": {},
   "cell_type": "markdown",
   "source": "step 6: calcularea acuratetei",
   "id": "a2b3aefae573f938"
  },
  {
   "metadata": {
    "ExecuteTime": {
     "end_time": "2024-10-20T09:52:47.821532Z",
     "start_time": "2024-10-20T09:52:47.806113Z"
    }
   },
   "cell_type": "code",
   "source": [
    "def accuracy(y_true, y_pred):\n",
    "    return np.mean(np.argmax(y_true, axis=1) == np.argmax(y_pred, axis=1))"
   ],
   "id": "f38bbd8e549e623",
   "outputs": [],
   "execution_count": 8
  },
  {
   "metadata": {},
   "cell_type": "markdown",
   "source": "Step 7: antrenarea modelului",
   "id": "b2b9072bd4c8ae98"
  },
  {
   "metadata": {
    "ExecuteTime": {
     "end_time": "2024-10-20T16:10:17.364696Z",
     "start_time": "2024-10-20T16:10:07.283323Z"
    }
   },
   "cell_type": "code",
   "source": [
    "def train_model(train_x, train_y, test_x, test_y, epochs = 50, batch_size = 100, learning_rate = 0.05):\n",
    "    np.random.seed(42)\n",
    "    \n",
    "    weight = np.random.randn(train_x.shape[1], 10) * 0.01\n",
    "    bias = np.zeros((10 ,))\n",
    "    \n",
    "    best_weight, best_bias = None, None \n",
    "    best_accuracy = 0\n",
    "    for epoch in range(epochs):\n",
    "        permutation = np.random.permutation(train_x.shape[0])\n",
    "        train_x_shufle = train_x[permutation]\n",
    "        train_y_shufle = train_y[permutation]\n",
    "        \n",
    "        for i in range(0, train_x_shufle.shape[0], batch_size):\n",
    "            x_batch = train_x_shufle[i:i+batch_size]\n",
    "            y_batch = train_y_shufle[i:i+batch_size]\n",
    "            \n",
    "            y_pred = forward_propagation(x_batch, weight, bias)\n",
    "            weight, bias = backward_propagation(x_batch, y_batch, y_pred, weight, bias, learning_rate)\n",
    "            \n",
    "        y_train_pred = forward_propagation(train_X, weight, bias)\n",
    "        train_acc = accuracy(train_Y_one_hot, y_train_pred)\n",
    "        \n",
    "        y_test_pred = forward_propagation(test_x, weight, bias)\n",
    "        test_acc = accuracy(test_y_one_hot, y_test_pred)\n",
    "        \n",
    "        if test_acc > best_accuracy:\n",
    "            best_accuracy = test_acc\n",
    "            best_weight = np.copy(weight) \n",
    "            best_bias = np.copy(bias)\n",
    "            \n",
    "        print(f'Epoch {epoch+1}/{epochs}, Train Accuracy: {train_acc:.4f}, Test Accuracy: {test_acc:.4f}')\n",
    "    \n",
    "    print(f'Best Accuracy on test data: {best_accuracy:.4f}')\n",
    "    y_test_pred = forward_propagation(test_x, best_weight, best_bias)\n",
    "    test_acc = accuracy(test_y_one_hot, y_test_pred)\n",
    "    \n",
    "    print(f\"proba:  {test_acc:.4f}\")\n",
    "   \n",
    "    print(f'best weight: {best_weight}')\n",
    "\n",
    "train_model(train_X, train_Y_one_hot, test_X, test_y_one_hot, epochs=10, batch_size=100, learning_rate=0.05)\n"
   ],
   "id": "e0ceb27dcc72ce43",
   "outputs": [
    {
     "name": "stdout",
     "output_type": "stream",
     "text": [
      "Epoch 1/10, Train Accuracy: 0.8223, Test Accuracy: 0.8275\n",
      "Epoch 2/10, Train Accuracy: 0.8864, Test Accuracy: 0.8786\n",
      "Epoch 3/10, Train Accuracy: 0.8831, Test Accuracy: 0.8855\n",
      "Epoch 4/10, Train Accuracy: 0.9079, Test Accuracy: 0.9071\n",
      "Epoch 5/10, Train Accuracy: 0.8416, Test Accuracy: 0.8371\n",
      "Epoch 6/10, Train Accuracy: 0.9014, Test Accuracy: 0.8982\n",
      "Epoch 7/10, Train Accuracy: 0.8459, Test Accuracy: 0.8434\n",
      "Epoch 8/10, Train Accuracy: 0.9034, Test Accuracy: 0.8974\n",
      "Epoch 9/10, Train Accuracy: 0.8727, Test Accuracy: 0.8712\n",
      "Epoch 10/10, Train Accuracy: 0.9164, Test Accuracy: 0.9093\n",
      "Best Accuracy on test data: 0.9093\n",
      "proba:  0.9093\n",
      "best weight: [[ 0.00496714 -0.00138264  0.00647689 ...  0.00767435 -0.00469474\n",
      "   0.0054256 ]\n",
      " [-0.00463418 -0.0046573   0.00241962 ...  0.00314247 -0.00908024\n",
      "  -0.01412304]\n",
      " [ 0.01465649 -0.00225776  0.00067528 ...  0.00375698 -0.00600639\n",
      "  -0.00291694]\n",
      " ...\n",
      " [ 0.00577072 -0.00178023  0.00155155 ... -0.00896368 -0.00448696\n",
      "   0.00234259]\n",
      " [ 0.00598996  0.00853349 -0.0049419  ... -0.00220932  0.00191124\n",
      "  -0.01149707]\n",
      " [-0.0019361   0.00744586  0.00641947 ... -0.00077821 -0.00275951\n",
      "  -0.00361724]]\n"
     ]
    }
   ],
   "execution_count": 47
  },
  {
   "metadata": {},
   "cell_type": "markdown",
   "source": "",
   "id": "5d82e493d8e2df8f"
  },
  {
   "metadata": {},
   "cell_type": "markdown",
   "source": "",
   "id": "16e2ab26d636e07d"
  }
 ],
 "metadata": {
  "kernelspec": {
   "display_name": "Python 3",
   "language": "python",
   "name": "python3"
  },
  "language_info": {
   "codemirror_mode": {
    "name": "ipython",
    "version": 2
   },
   "file_extension": ".py",
   "mimetype": "text/x-python",
   "name": "python",
   "nbconvert_exporter": "python",
   "pygments_lexer": "ipython2",
   "version": "2.7.6"
  }
 },
 "nbformat": 4,
 "nbformat_minor": 5
}
