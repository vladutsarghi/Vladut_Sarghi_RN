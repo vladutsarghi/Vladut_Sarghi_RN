{
 "cells": [
  {
   "metadata": {},
   "cell_type": "markdown",
   "source": "Importarea datelor",
   "id": "59024ed05467bb5a"
  },
  {
   "cell_type": "code",
   "id": "initial_id",
   "metadata": {
    "collapsed": true,
    "ExecuteTime": {
     "end_time": "2024-11-10T21:42:10.044256Z",
     "start_time": "2024-11-10T21:42:07.084838Z"
    }
   },
   "source": [
    "import numpy as np\n",
    "from torchvision.datasets import MNIST\n",
    "\n",
    "def download_mnist(is_train: bool):\n",
    "    dataset = MNIST(root='./data',\n",
    "            transform=lambda x: np.array(x).flatten(),\n",
    "            download=True,\n",
    "            train=is_train)\n",
    "    \n",
    "    mnist_data = []\n",
    "    mnist_labels = []\n",
    "    for image, label in dataset:\n",
    "        mnist_data.append(image)\n",
    "        mnist_labels.append(label)\n",
    "    return np.array(mnist_data), np.array(mnist_labels)\n",
    "\n",
    "\n",
    "train_X, train_Y = download_mnist(True)\n",
    "test_X, test_Y = download_mnist(False)\n",
    "\n",
    "train_X = train_X/255.0\n",
    "test_X = test_X/255.0\n",
    "\n",
    "train_Y = np.eye(10)[train_Y]\n",
    "test_Y = np.eye(10)[test_Y]"
   ],
   "outputs": [],
   "execution_count": 120
  },
  {
   "metadata": {},
   "cell_type": "markdown",
   "source": "Initiaizarea datelor",
   "id": "81fcaa7ecdfa1862"
  },
  {
   "metadata": {
    "ExecuteTime": {
     "end_time": "2024-11-10T21:42:14.392537Z",
     "start_time": "2024-11-10T21:42:14.369767Z"
    }
   },
   "cell_type": "code",
   "source": [
    "input_size = 784      \n",
    "hidden_size = 100    \n",
    "output_size = 10      \n",
    "learning_rate = 0.01\n",
    "epochs = 10\n",
    "batch_size = 64\n",
    "\n",
    "np.random.seed(0)\n",
    "weights_input_hidden = np.random.randn(input_size, hidden_size) * 0.01\n",
    "weights_hidden_output = np.random.randn(hidden_size, output_size) * 0.01\n",
    "b1 = np.zeros((1, hidden_size))\n",
    "b2 = np.zeros((1, output_size))"
   ],
   "id": "ba5eb0a5c68f0757",
   "outputs": [],
   "execution_count": 121
  },
  {
   "metadata": {},
   "cell_type": "markdown",
   "source": "Functia de activare: sigmoid",
   "id": "9aac6e67798267d5"
  },
  {
   "metadata": {
    "ExecuteTime": {
     "end_time": "2024-11-10T16:59:55.225552Z",
     "start_time": "2024-11-10T16:59:55.220912Z"
    }
   },
   "cell_type": "code",
   "source": [
    "def sigmoid(z):\n",
    "    return 1 / (1 + np.exp(-z))\n",
    "\n",
    "def sigmoid_derivative(y):\n",
    "    return y * (1 - y)"
   ],
   "id": "e0ba4334cf042025",
   "outputs": [],
   "execution_count": 69
  },
  {
   "metadata": {},
   "cell_type": "markdown",
   "source": "Softmax",
   "id": "c6e721fe04fdb03c"
  },
  {
   "metadata": {
    "ExecuteTime": {
     "end_time": "2024-11-10T16:59:56.406195Z",
     "start_time": "2024-11-10T16:59:56.401586Z"
    }
   },
   "cell_type": "code",
   "source": [
    "def softmax(z):\n",
    "    exp_z = np.exp(z - np.max(z, axis=1, keepdims=True))\n",
    "    return exp_z / np.sum(exp_z, axis=1, keepdims=True)"
   ],
   "id": "8220832a8fdb9504",
   "outputs": [],
   "execution_count": 70
  },
  {
   "metadata": {},
   "cell_type": "markdown",
   "source": "Forword propagation",
   "id": "917fd28e3f1c1056"
  },
  {
   "metadata": {
    "ExecuteTime": {
     "end_time": "2024-11-10T16:59:57.796575Z",
     "start_time": "2024-11-10T16:59:57.791972Z"
    }
   },
   "cell_type": "code",
   "source": [
    "def forward(X):\n",
    "    hidden_input = np.dot(X, weights_input_hidden) + b1\n",
    "    hidden_output = sigmoid(hidden_input)\n",
    "    output_input = np.dot(hidden_output, weights_hidden_output) + b2\n",
    "    output_output = softmax(output_input)\n",
    "    return hidden_output, output_output"
   ],
   "id": "6aa80bb81f5f4034",
   "outputs": [],
   "execution_count": 71
  },
  {
   "metadata": {},
   "cell_type": "markdown",
   "source": "Backwords propagation",
   "id": "6bf8724287873e4a"
  },
  {
   "metadata": {
    "ExecuteTime": {
     "end_time": "2024-11-10T21:42:36.709142Z",
     "start_time": "2024-11-10T21:42:36.696304Z"
    }
   },
   "cell_type": "code",
   "source": [
    "def backprop(X, y, hidden_output, output_output):\n",
    "    global weights_input_hidden, weights_hidden_output, b1, b2\n",
    "    \n",
    "    output_error = output_output - y \n",
    "    \n",
    "    hidden_error = np.dot(output_error, weights_hidden_output.T)\n",
    "    hidden_delta = hidden_error * hidden_output * (1 - hidden_output)  \n",
    "    \n",
    "    weights_hidden_output_gradient = np.dot(hidden_output.T, output_error)\n",
    "    weights_input_hidden_gradient = np.dot(X.T, hidden_delta)\n",
    "    \n",
    "    b2_output_gradient = np.sum(output_error, axis=0, keepdims=True)\n",
    "    b1_hidden_gradient = np.sum(hidden_delta, axis=0, keepdims=True)\n",
    "    \n",
    "    weights_hidden_output -= learning_rate * weights_hidden_output_gradient\n",
    "    weights_input_hidden -= learning_rate * weights_input_hidden_gradient\n",
    "    \n",
    "    b2 -= learning_rate * b2_output_gradient\n",
    "    b1 -= learning_rate * b1_hidden_gradient\n"
   ],
   "id": "71bef97c7857c53c",
   "outputs": [],
   "execution_count": 122
  },
  {
   "metadata": {},
   "cell_type": "markdown",
   "source": "",
   "id": "49edd8bf5543957e"
  },
  {
   "metadata": {
    "ExecuteTime": {
     "end_time": "2024-11-10T20:29:00.351658Z",
     "start_time": "2024-11-10T20:29:00.347110Z"
    }
   },
   "cell_type": "code",
   "source": [
    "def backprop2(X, y, hidden_output, output_output):\n",
    "    global weights_input_hidden, weights_hidden_output\n",
    "    \n",
    "    output_error = output_output - y  \n",
    "          \n",
    "    hidden_error = np.dot(output_error, weights_hidden_output.T)  \n",
    "    hidden_delta = hidden_error * hidden_output * (1 - hidden_output) \n",
    "    \n",
    "    weights_hidden_output_gradient = np.dot(hidden_output.T, output_error)  \n",
    "    weights_input_hidden_gradient = np.dot(X.T, hidden_delta) \n",
    "\n",
    "    weights_hidden_output -= learning_rate * weights_hidden_output_gradient\n",
    "    weights_input_hidden -= learning_rate * weights_input_hidden_gradient\n"
   ],
   "id": "8078400e8c3b3f7d",
   "outputs": [],
   "execution_count": 111
  },
  {
   "metadata": {},
   "cell_type": "markdown",
   "source": "Cross entropy",
   "id": "60976dd13fbe220c"
  },
  {
   "metadata": {
    "ExecuteTime": {
     "end_time": "2024-11-10T17:00:01.611952Z",
     "start_time": "2024-11-10T17:00:01.608073Z"
    }
   },
   "cell_type": "code",
   "source": [
    "\n",
    "def cross_entropy(y_pred, y_true):\n",
    "    epsilon = 1e-12\n",
    "    y_pred = np.clip(y_pred, epsilon, 1. - epsilon)\n",
    "    return -np.sum(y_true * np.log(y_pred)) / y_pred.shape[0]"
   ],
   "id": "1f03d182e42b0442",
   "outputs": [],
   "execution_count": 74
  },
  {
   "metadata": {},
   "cell_type": "markdown",
   "source": "Train",
   "id": "5315b2c7aa283ffa"
  },
  {
   "metadata": {
    "ExecuteTime": {
     "end_time": "2024-11-10T20:42:46.153667Z",
     "start_time": "2024-11-10T20:42:40.741178Z"
    }
   },
   "cell_type": "code",
   "source": [
    "def train_dynamic(X, y, epochs=10, batch_size=100):\n",
    "    global learning_rate\n",
    "    n_samples = train_X.shape[0]\n",
    "    \n",
    "    history_test_acc = []\n",
    "\n",
    "    for epoch in range(epochs):    \n",
    "        permutation = np.random.permutation(n_samples)\n",
    "        train_X_shuffled = train_X[permutation]\n",
    "        train_Y_shuffled = train_Y[permutation]\n",
    "        \n",
    "        total_loss = 0\n",
    "\n",
    "        for start in range(0, n_samples, batch_size):\n",
    "            X_batch = train_X_shuffled[start:start + batch_size]\n",
    "            y_batch = train_Y_shuffled[start:start + batch_size]\n",
    "            \n",
    "            hidden_output, output_output = forward(X_batch)\n",
    "            backprop(X_batch, y_batch, hidden_output, output_output)\n",
    "            \n",
    "            batch_loss = cross_entropy(output_output, y_batch)\n",
    "            total_loss += batch_loss\n",
    "        \n",
    "        test_accuracy = compute_accuracy(test_X, test_Y)\n",
    "        history_test_acc.append(test_accuracy)\n",
    "        \n",
    "        if epoch % 10 == 0:\n",
    "           if abs(history_test_acc[-1] - np.mean(history_test_acc[-10:-1])) < 0.1:\n",
    "                learning_rate = learning_rate / 1.1\n",
    "                print(\"Learing rate changed\")\n",
    "                \n",
    "        \n",
    "        print(f\"Epoch {epoch + 1}, Loss: {total_loss:.4f}, Test Accuracy: {test_accuracy:.4f}%\")\n",
    "\n",
    "        \n",
    "    \n",
    "\n",
    "def compute_accuracy(X, y):\n",
    "    _, output = forward(X)\n",
    "    predictions = np.argmax(output, axis=1)\n",
    "    labels = np.argmax(y, axis=1)\n",
    "    return np.mean(predictions == labels) \n",
    "\n",
    "train_dynamic(train_X, train_Y, epochs=100)"
   ],
   "id": "417b122c6953923",
   "outputs": [
    {
     "name": "stdout",
     "output_type": "stream",
     "text": [
      "Epoch 1, Loss: 6.3514, Test Accuracy: 0.98%\n",
      "Epoch 2, Loss: 6.0238, Test Accuracy: 0.98%\n",
      "Epoch 3, Loss: 5.6506, Test Accuracy: 0.98%\n",
      "Epoch 4, Loss: 5.3769, Test Accuracy: 0.98%\n",
      "Epoch 5, Loss: 5.0726, Test Accuracy: 0.98%\n",
      "Epoch 6, Loss: 4.8290, Test Accuracy: 0.98%\n"
     ]
    },
    {
     "ename": "KeyboardInterrupt",
     "evalue": "",
     "output_type": "error",
     "traceback": [
      "\u001B[1;31m---------------------------------------------------------------------------\u001B[0m",
      "\u001B[1;31mKeyboardInterrupt\u001B[0m                         Traceback (most recent call last)",
      "Cell \u001B[1;32mIn[119], line 44\u001B[0m\n\u001B[0;32m     41\u001B[0m     labels \u001B[38;5;241m=\u001B[39m np\u001B[38;5;241m.\u001B[39margmax(y, axis\u001B[38;5;241m=\u001B[39m\u001B[38;5;241m1\u001B[39m)\n\u001B[0;32m     42\u001B[0m     \u001B[38;5;28;01mreturn\u001B[39;00m np\u001B[38;5;241m.\u001B[39mmean(predictions \u001B[38;5;241m==\u001B[39m labels) \n\u001B[1;32m---> 44\u001B[0m \u001B[43mtrain_dynamic\u001B[49m\u001B[43m(\u001B[49m\u001B[43mtrain_X\u001B[49m\u001B[43m,\u001B[49m\u001B[43m \u001B[49m\u001B[43mtrain_Y\u001B[49m\u001B[43m,\u001B[49m\u001B[43m \u001B[49m\u001B[43mepochs\u001B[49m\u001B[38;5;241;43m=\u001B[39;49m\u001B[38;5;241;43m100\u001B[39;49m\u001B[43m)\u001B[49m\n",
      "Cell \u001B[1;32mIn[119], line 18\u001B[0m, in \u001B[0;36mtrain_dynamic\u001B[1;34m(X, y, epochs, batch_size)\u001B[0m\n\u001B[0;32m     15\u001B[0m X_batch \u001B[38;5;241m=\u001B[39m train_X_shuffled[start:start \u001B[38;5;241m+\u001B[39m batch_size]\n\u001B[0;32m     16\u001B[0m y_batch \u001B[38;5;241m=\u001B[39m train_Y_shuffled[start:start \u001B[38;5;241m+\u001B[39m batch_size]\n\u001B[1;32m---> 18\u001B[0m hidden_output, output_output \u001B[38;5;241m=\u001B[39m \u001B[43mforward\u001B[49m\u001B[43m(\u001B[49m\u001B[43mX_batch\u001B[49m\u001B[43m)\u001B[49m\n\u001B[0;32m     19\u001B[0m backprop2(X_batch, y_batch, hidden_output, output_output)\n\u001B[0;32m     21\u001B[0m batch_loss \u001B[38;5;241m=\u001B[39m cross_entropy(output_output, y_batch)\n",
      "Cell \u001B[1;32mIn[71], line 3\u001B[0m, in \u001B[0;36mforward\u001B[1;34m(X)\u001B[0m\n\u001B[0;32m      1\u001B[0m \u001B[38;5;28;01mdef\u001B[39;00m \u001B[38;5;21mforward\u001B[39m(X):\n\u001B[0;32m      2\u001B[0m     hidden_input \u001B[38;5;241m=\u001B[39m np\u001B[38;5;241m.\u001B[39mdot(X, weights_input_hidden)\n\u001B[1;32m----> 3\u001B[0m     hidden_output \u001B[38;5;241m=\u001B[39m \u001B[43msigmoid\u001B[49m\u001B[43m(\u001B[49m\u001B[43mhidden_input\u001B[49m\u001B[43m)\u001B[49m\n\u001B[0;32m      4\u001B[0m     output_input \u001B[38;5;241m=\u001B[39m np\u001B[38;5;241m.\u001B[39mdot(hidden_output, weights_hidden_output)\n\u001B[0;32m      5\u001B[0m     output_output \u001B[38;5;241m=\u001B[39m softmax(output_input)\n",
      "Cell \u001B[1;32mIn[69], line 2\u001B[0m, in \u001B[0;36msigmoid\u001B[1;34m(z)\u001B[0m\n\u001B[0;32m      1\u001B[0m \u001B[38;5;28;01mdef\u001B[39;00m \u001B[38;5;21msigmoid\u001B[39m(z):\n\u001B[1;32m----> 2\u001B[0m     \u001B[38;5;28;01mreturn\u001B[39;00m \u001B[38;5;241m1\u001B[39m \u001B[38;5;241m/\u001B[39m (\u001B[38;5;241m1\u001B[39m \u001B[38;5;241m+\u001B[39m \u001B[43mnp\u001B[49m\u001B[38;5;241;43m.\u001B[39;49m\u001B[43mexp\u001B[49m\u001B[43m(\u001B[49m\u001B[38;5;241;43m-\u001B[39;49m\u001B[43mz\u001B[49m\u001B[43m)\u001B[49m)\n",
      "\u001B[1;31mKeyboardInterrupt\u001B[0m: "
     ]
    }
   ],
   "execution_count": 119
  }
 ],
 "metadata": {
  "kernelspec": {
   "display_name": "Python 3",
   "language": "python",
   "name": "python3"
  },
  "language_info": {
   "codemirror_mode": {
    "name": "ipython",
    "version": 2
   },
   "file_extension": ".py",
   "mimetype": "text/x-python",
   "name": "python",
   "nbconvert_exporter": "python",
   "pygments_lexer": "ipython2",
   "version": "2.7.6"
  }
 },
 "nbformat": 4,
 "nbformat_minor": 5
}
